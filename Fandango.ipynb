{
 "cells": [
  {
   "cell_type": "markdown",
   "metadata": {},
   "source": [
    "# Has Fandango removed bias from their ratings?\n",
    "\n",
    "After it was revealed in 2015 that Fandango's rating system was rounding ratings up considerably, the website stated their was a bug in their system causing the errors to occur. A journalist named Walt Hickey discovered that the actual rating displayed in a movie's HTML page did not always correspond to the rating displayed on Fandango. For example a 4.1 star rating would be rounded up to 4.5 stars. \n",
    "\n",
    "In this project I will examine more recent data from Fandango to find out whether the rounding error has continued to occur, or if Fandango has since fixed the issue. I will compare two datasets - one from before the bug was discovered and one from after it was discovered.\n",
    "\n",
    "This is a guided project I completed through DataQuest.\n"
   ]
  },
  {
   "cell_type": "markdown",
   "metadata": {},
   "source": [
    "First I will import necessary packages and read in the data:"
   ]
  },
  {
   "cell_type": "code",
   "execution_count": 259,
   "metadata": {
    "collapsed": false
   },
   "outputs": [],
   "source": [
    "import pandas as pd\n",
    "import numpy as np\n",
    "import matplotlib.pyplot as plt\n",
    "import warnings\n",
    "from scipy.stats import ttest_ind\n",
    "\n",
    "warnings.filterwarnings('ignore')\n",
    "\n",
    "before=pd.read_csv('fandango_score_comparison.csv')\n",
    "after=pd.read_csv('movie_ratings_16_17.csv')"
   ]
  },
  {
   "cell_type": "markdown",
   "metadata": {},
   "source": [
    "Next I will filter the data to columns relevant to my analysis:"
   ]
  },
  {
   "cell_type": "code",
   "execution_count": 260,
   "metadata": {
    "collapsed": true
   },
   "outputs": [],
   "source": [
    "before_filtered=before[['FILM', 'Fandango_Stars', 'Fandango_Ratingvalue', 'Fandango_votes', 'Fandango_Difference']]\n",
    "after_filtered=after[['movie', 'year', 'fandango']]"
   ]
  },
  {
   "cell_type": "markdown",
   "metadata": {},
   "source": [
    "Taking a look at the dataset:"
   ]
  },
  {
   "cell_type": "code",
   "execution_count": 261,
   "metadata": {
    "collapsed": false
   },
   "outputs": [
    {
     "data": {
      "text/html": [
       "<div>\n",
       "<style scoped>\n",
       "    .dataframe tbody tr th:only-of-type {\n",
       "        vertical-align: middle;\n",
       "    }\n",
       "\n",
       "    .dataframe tbody tr th {\n",
       "        vertical-align: top;\n",
       "    }\n",
       "\n",
       "    .dataframe thead th {\n",
       "        text-align: right;\n",
       "    }\n",
       "</style>\n",
       "<table border=\"1\" class=\"dataframe\">\n",
       "  <thead>\n",
       "    <tr style=\"text-align: right;\">\n",
       "      <th></th>\n",
       "      <th>FILM</th>\n",
       "      <th>Fandango_Stars</th>\n",
       "      <th>Fandango_Ratingvalue</th>\n",
       "      <th>Fandango_votes</th>\n",
       "      <th>Fandango_Difference</th>\n",
       "    </tr>\n",
       "  </thead>\n",
       "  <tbody>\n",
       "    <tr>\n",
       "      <th>0</th>\n",
       "      <td>Avengers: Age of Ultron (2015)</td>\n",
       "      <td>5.0</td>\n",
       "      <td>4.5</td>\n",
       "      <td>14846</td>\n",
       "      <td>0.5</td>\n",
       "    </tr>\n",
       "    <tr>\n",
       "      <th>1</th>\n",
       "      <td>Cinderella (2015)</td>\n",
       "      <td>5.0</td>\n",
       "      <td>4.5</td>\n",
       "      <td>12640</td>\n",
       "      <td>0.5</td>\n",
       "    </tr>\n",
       "    <tr>\n",
       "      <th>2</th>\n",
       "      <td>Ant-Man (2015)</td>\n",
       "      <td>5.0</td>\n",
       "      <td>4.5</td>\n",
       "      <td>12055</td>\n",
       "      <td>0.5</td>\n",
       "    </tr>\n",
       "    <tr>\n",
       "      <th>3</th>\n",
       "      <td>Do You Believe? (2015)</td>\n",
       "      <td>5.0</td>\n",
       "      <td>4.5</td>\n",
       "      <td>1793</td>\n",
       "      <td>0.5</td>\n",
       "    </tr>\n",
       "    <tr>\n",
       "      <th>4</th>\n",
       "      <td>Hot Tub Time Machine 2 (2015)</td>\n",
       "      <td>3.5</td>\n",
       "      <td>3.0</td>\n",
       "      <td>1021</td>\n",
       "      <td>0.5</td>\n",
       "    </tr>\n",
       "  </tbody>\n",
       "</table>\n",
       "</div>"
      ],
      "text/plain": [
       "                             FILM  Fandango_Stars  Fandango_Ratingvalue  \\\n",
       "0  Avengers: Age of Ultron (2015)             5.0                   4.5   \n",
       "1               Cinderella (2015)             5.0                   4.5   \n",
       "2                  Ant-Man (2015)             5.0                   4.5   \n",
       "3          Do You Believe? (2015)             5.0                   4.5   \n",
       "4   Hot Tub Time Machine 2 (2015)             3.5                   3.0   \n",
       "\n",
       "   Fandango_votes  Fandango_Difference  \n",
       "0           14846                  0.5  \n",
       "1           12640                  0.5  \n",
       "2           12055                  0.5  \n",
       "3            1793                  0.5  \n",
       "4            1021                  0.5  "
      ]
     },
     "execution_count": 261,
     "metadata": {},
     "output_type": "execute_result"
    }
   ],
   "source": [
    "before_filtered.head()"
   ]
  },
  {
   "cell_type": "code",
   "execution_count": 262,
   "metadata": {
    "collapsed": false,
    "scrolled": false
   },
   "outputs": [
    {
     "data": {
      "text/html": [
       "<div>\n",
       "<style scoped>\n",
       "    .dataframe tbody tr th:only-of-type {\n",
       "        vertical-align: middle;\n",
       "    }\n",
       "\n",
       "    .dataframe tbody tr th {\n",
       "        vertical-align: top;\n",
       "    }\n",
       "\n",
       "    .dataframe thead th {\n",
       "        text-align: right;\n",
       "    }\n",
       "</style>\n",
       "<table border=\"1\" class=\"dataframe\">\n",
       "  <thead>\n",
       "    <tr style=\"text-align: right;\">\n",
       "      <th></th>\n",
       "      <th>movie</th>\n",
       "      <th>year</th>\n",
       "      <th>fandango</th>\n",
       "    </tr>\n",
       "  </thead>\n",
       "  <tbody>\n",
       "    <tr>\n",
       "      <th>0</th>\n",
       "      <td>10 Cloverfield Lane</td>\n",
       "      <td>2016</td>\n",
       "      <td>3.5</td>\n",
       "    </tr>\n",
       "    <tr>\n",
       "      <th>1</th>\n",
       "      <td>13 Hours</td>\n",
       "      <td>2016</td>\n",
       "      <td>4.5</td>\n",
       "    </tr>\n",
       "    <tr>\n",
       "      <th>2</th>\n",
       "      <td>A Cure for Wellness</td>\n",
       "      <td>2016</td>\n",
       "      <td>3.0</td>\n",
       "    </tr>\n",
       "    <tr>\n",
       "      <th>3</th>\n",
       "      <td>A Dog's Purpose</td>\n",
       "      <td>2017</td>\n",
       "      <td>4.5</td>\n",
       "    </tr>\n",
       "    <tr>\n",
       "      <th>4</th>\n",
       "      <td>A Hologram for the King</td>\n",
       "      <td>2016</td>\n",
       "      <td>3.0</td>\n",
       "    </tr>\n",
       "  </tbody>\n",
       "</table>\n",
       "</div>"
      ],
      "text/plain": [
       "                     movie  year  fandango\n",
       "0      10 Cloverfield Lane  2016       3.5\n",
       "1                 13 Hours  2016       4.5\n",
       "2      A Cure for Wellness  2016       3.0\n",
       "3          A Dog's Purpose  2017       4.5\n",
       "4  A Hologram for the King  2016       3.0"
      ]
     },
     "execution_count": 262,
     "metadata": {},
     "output_type": "execute_result"
    }
   ],
   "source": [
    "after_filtered.head()"
   ]
  },
  {
   "cell_type": "markdown",
   "metadata": {},
   "source": [
    "I will check to confirm that the first dataset only contains movies from up to 2015, and the second dataset only contains movies after 2015."
   ]
  },
  {
   "cell_type": "code",
   "execution_count": 263,
   "metadata": {
    "collapsed": false
   },
   "outputs": [],
   "source": [
    "for year in range (2016, 2023):\n",
    "    assert(before_filtered.FILM.str.contains(str(year)).sum()==0)\n",
    "assert(after_filtered.loc[after_filtered.year==2015].empty)"
   ]
  },
  {
   "cell_type": "code",
   "execution_count": 264,
   "metadata": {
    "collapsed": false
   },
   "outputs": [
    {
     "name": "stdout",
     "output_type": "stream",
     "text": [
      "<class 'pandas.core.frame.DataFrame'>\n",
      "RangeIndex: 146 entries, 0 to 145\n",
      "Data columns (total 5 columns):\n",
      "FILM                    146 non-null object\n",
      "Fandango_Stars          146 non-null float64\n",
      "Fandango_Ratingvalue    146 non-null float64\n",
      "Fandango_votes          146 non-null int64\n",
      "Fandango_Difference     146 non-null float64\n",
      "dtypes: float64(3), int64(1), object(1)\n",
      "memory usage: 5.8+ KB\n"
     ]
    }
   ],
   "source": [
    "before_filtered.info()"
   ]
  },
  {
   "cell_type": "code",
   "execution_count": 265,
   "metadata": {
    "collapsed": false
   },
   "outputs": [
    {
     "name": "stdout",
     "output_type": "stream",
     "text": [
      "<class 'pandas.core.frame.DataFrame'>\n",
      "RangeIndex: 214 entries, 0 to 213\n",
      "Data columns (total 3 columns):\n",
      "movie       214 non-null object\n",
      "year        214 non-null int64\n",
      "fandango    214 non-null float64\n",
      "dtypes: float64(1), int64(1), object(1)\n",
      "memory usage: 5.1+ KB\n"
     ]
    }
   ],
   "source": [
    "after_filtered.info()"
   ]
  },
  {
   "cell_type": "markdown",
   "metadata": {},
   "source": [
    "The first dataset contains records for 146 movies and the second dataset contains records for 214 movies. Neither is representative of the whole population because these are specifically movies that received a lot of ratings, which is why the analysis will focus specifically on popular movies. Since there are more than 30 records we can consider this a sufficient sample size. "
   ]
  },
  {
   "cell_type": "code",
   "execution_count": 266,
   "metadata": {
    "collapsed": false
   },
   "outputs": [],
   "source": [
    "after_filtered['FILM']=after_filtered['movie'] + ' (' + after_filtered['year'].astype(str)+')'"
   ]
  },
  {
   "cell_type": "markdown",
   "metadata": {},
   "source": [
    "## Graphical and Statistical Analysis"
   ]
  },
  {
   "cell_type": "markdown",
   "metadata": {
    "collapsed": true
   },
   "source": [
    "Next I will compare the distributions of the ratings for the two datasets using a kernel density plot. "
   ]
  },
  {
   "cell_type": "code",
   "execution_count": 267,
   "metadata": {
    "collapsed": false
   },
   "outputs": [
    {
     "data": {
      "image/png": "[encoded data removed]",
      "text/plain": [
       "<matplotlib.figure.Figure at 0x7f8258165240>"
      ]
     },
     "metadata": {},
     "output_type": "display_data"
    }
   ],
   "source": [
    "%matplotlib inline\n",
    "plt.style.use('fivethirtyeight')\n",
    "fig, ax=plt.subplots(figsize=(10,5))\n",
    "before_filtered['Fandango_Stars'].plot.kde(label='Movies Ratings Before', color='dodgerblue')\n",
    "after_filtered['fandango'].plot.kde(label='Movies Ratings After', color='firebrick')\n",
    "plt.legend(prop={'size': 12})\n",
    "plt.xticks([0, 0.5, 1.0, 1.5, 2.0, 2.5, 3.0, 3.5, 4.0, 4.5, 5.0])\n",
    "plt.xlabel('Fandango Star Rating')\n",
    "plt.ylabel('Density')\n",
    "plt.title('Comparison of Fandango Ratings Before and After The Bug was Discovered', size=15)\n",
    "plt.show()"
   ]
  },
  {
   "cell_type": "markdown",
   "metadata": {},
   "source": [
    "We can see that there definitely was a shift after 2015 in the ratings. This is an indication that Fandango may have indeed corrected the bug, but more research is still needed.\n",
    "\n",
    "The original ratings appear to be skewed left, whereas the newer ratings are closer to a normal distribution. I will look at a frequency table to see the percentage of movies that received high star ratings on Fandango:"
   ]
  },
  {
   "cell_type": "code",
   "execution_count": 268,
   "metadata": {
    "collapsed": false,
    "scrolled": true
   },
   "outputs": [
    {
     "data": {
      "text/html": [
       "<div>\n",
       "<style scoped>\n",
       "    .dataframe tbody tr th:only-of-type {\n",
       "        vertical-align: middle;\n",
       "    }\n",
       "\n",
       "    .dataframe tbody tr th {\n",
       "        vertical-align: top;\n",
       "    }\n",
       "\n",
       "    .dataframe thead th {\n",
       "        text-align: right;\n",
       "    }\n",
       "</style>\n",
       "<table border=\"1\" class=\"dataframe\">\n",
       "  <thead>\n",
       "    <tr style=\"text-align: right;\">\n",
       "      <th></th>\n",
       "      <th>Before</th>\n",
       "      <th>After</th>\n",
       "    </tr>\n",
       "  </thead>\n",
       "  <tbody>\n",
       "    <tr>\n",
       "      <th>5.0 Stars</th>\n",
       "      <td>7.5%</td>\n",
       "      <td>0.5%</td>\n",
       "    </tr>\n",
       "    <tr>\n",
       "      <th>4.5 Stars</th>\n",
       "      <td>37.7%</td>\n",
       "      <td>26.6%</td>\n",
       "    </tr>\n",
       "    <tr>\n",
       "      <th>4.0 Stars</th>\n",
       "      <td>28.1%</td>\n",
       "      <td>38.3%</td>\n",
       "    </tr>\n",
       "    <tr>\n",
       "      <th>3.5 Stars</th>\n",
       "      <td>18.5%</td>\n",
       "      <td>23.4%</td>\n",
       "    </tr>\n",
       "    <tr>\n",
       "      <th>3.0 Stars</th>\n",
       "      <td>8.2%</td>\n",
       "      <td>8.4%</td>\n",
       "    </tr>\n",
       "    <tr>\n",
       "      <th>2.5 Stars</th>\n",
       "      <td>0.0%</td>\n",
       "      <td>2.8%</td>\n",
       "    </tr>\n",
       "  </tbody>\n",
       "</table>\n",
       "</div>"
      ],
      "text/plain": [
       "          Before  After\n",
       "5.0 Stars   7.5%   0.5%\n",
       "4.5 Stars  37.7%  26.6%\n",
       "4.0 Stars  28.1%  38.3%\n",
       "3.5 Stars  18.5%  23.4%\n",
       "3.0 Stars   8.2%   8.4%\n",
       "2.5 Stars   0.0%   2.8%"
      ]
     },
     "execution_count": 268,
     "metadata": {},
     "output_type": "execute_result"
    }
   ],
   "source": [
    "ratings_df=pd.concat([round(before_filtered['Fandango_Stars'].value_counts(normalize=True).sort_index(ascending=False)*100, 1), round(after_filtered['fandango'].value_counts(normalize=True).sort_index(ascending=False)*100, 1)], axis=1).fillna(0)\n",
    "ratings_df.rename(columns={'Fandango_Stars': 'Before', 'fandango': 'After'}, inplace=True)\n",
    "ratings_df['Before']=ratings_df['Before'].apply(lambda x: str(x)+'%')\n",
    "ratings_df['After']=ratings_df['After'].apply(lambda x: str(x)+'%')\n",
    "ratings_df.index=ratings_df.index.map(lambda x: str(x)+ ' Stars')\n",
    "ratings_df.iloc[::-1]"
   ]
  },
  {
   "cell_type": "markdown",
   "metadata": {},
   "source": [
    "Looking at this table we can see that before the bug was discovered, a higher percentage of movies had 4.5 stars or 5 stars. "
   ]
  },
  {
   "cell_type": "code",
   "execution_count": 270,
   "metadata": {
    "collapsed": false
   },
   "outputs": [
    {
     "data": {
      "image/png": "[encoded data removed]",
      "text/plain": [
       "<matplotlib.figure.Figure at 0x7f825324e668>"
      ]
     },
     "metadata": {},
     "output_type": "display_data"
    }
   ],
   "source": [
    "%matplotlib inline\n",
    "plt.style.use('fivethirtyeight')\n",
    "fig, ax=plt.subplots(figsize=(8,9))\n",
    "\n",
    "\n",
    "labels=[0, 1, 2]\n",
    "\n",
    "\n",
    "\n",
    "plt.bar([0, 1, 2], [before_filtered['Fandango_Stars'].mean(), \n",
    "            before_filtered['Fandango_Stars'].median(),  \n",
    "            before_filtered['Fandango_Stars'].mode()[0]], width=0.3, color='dodgerblue', label='Before')\n",
    "\n",
    "plt.bar([0.15, 1.15, 2.15], [after_filtered['fandango'].mean(), \n",
    "            after_filtered['fandango'].median(),  \n",
    "            after_filtered['fandango'].mode()[0]], width=0.3, color='firebrick', label='After')\n",
    "\n",
    "plt.xticks([0.25, 1.25, 2.25, 3.2], ['Mean', 'Median', 'Mode', ''])\n",
    "plt.yticks(np.arange(0, 5.5, 0.5))\n",
    "\n",
    "plt.suptitle('Mean, Median, and Mode for Movie Ratings Before and After Bug was Discovered', size=16, y=1);      \n",
    "#plt.title('Mean, Median, and Mode for Movie Ratings Before and After Bug was Discovered', pad=10)\n",
    "plt.legend(prop={'size': 12});"
   ]
  },
  {
   "cell_type": "markdown",
   "metadata": {},
   "source": [
    "For my final step, I will check to see if there is a statistically significant difference between the movie ratings before and after."
   ]
  },
  {
   "cell_type": "code",
   "execution_count": 272,
   "metadata": {
    "collapsed": false
   },
   "outputs": [
    {
     "data": {
      "text/plain": [
       "Ttest_indResult(statistic=3.43610498925189, pvalue=0.000659471285461223)"
      ]
     },
     "execution_count": 272,
     "metadata": {},
     "output_type": "execute_result"
    }
   ],
   "source": [
    "ttest_ind(before_filtered['Fandango_Stars'], after_filtered['fandango'])"
   ]
  },
  {
   "cell_type": "markdown",
   "metadata": {},
   "source": [
    "## Findings\n",
    "\n",
    "In conclusion, there is a statistically significant difference between the ratings in the datasets based on the fact that the p-value is less than 0.05. Our p-value of 0.0006 means there is just a 0.06% chance the samples came from a population with equal mean. The bar chart and kde plots also support the conclusion that there is a difference in the ratings after Hickey discovered the bug in Fandango's system. Although it cannot be known for sure whether Fandango fixed the bug, the data used for this analysis indicates it is likely that they did."
   ]
  }
 ],
 "metadata": {
  "kernelspec": {
   "display_name": "Python 3",
   "language": "python",
   "name": "python3"
  },
  "language_info": {
   "codemirror_mode": {
    "name": "ipython",
    "version": 3
   },
   "file_extension": ".py",
   "mimetype": "text/x-python",
   "name": "python",
   "nbconvert_exporter": "python",
   "pygments_lexer": "ipython3",
   "version": "3.4.3"
  }
 },
 "nbformat": 4,
 "nbformat_minor": 2
}
